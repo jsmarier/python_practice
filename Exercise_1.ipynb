{
  "nbformat": 4,
  "nbformat_minor": 0,
  "metadata": {
    "colab": {
      "name": "Exercise 1.ipynb",
      "provenance": [],
      "collapsed_sections": [],
      "include_colab_link": true
    },
    "kernelspec": {
      "name": "python3",
      "display_name": "Python 3"
    }
  },
  "cells": [
    {
      "cell_type": "markdown",
      "metadata": {
        "id": "view-in-github",
        "colab_type": "text"
      },
      "source": [
        "<a href=\"https://colab.research.google.com/github/jsmarier/python_practice/blob/main/Exercise_1.ipynb\" target=\"_parent\"><img src=\"https://colab.research.google.com/assets/colab-badge.svg\" alt=\"Open In Colab\"/></a>"
      ]
    },
    {
      "cell_type": "markdown",
      "metadata": {
        "id": "afJPinT5RamF"
      },
      "source": [
        "# Please don't edit directly in this document. Create your own copy first.#\n",
        "\n",
        "# Exercise 1: uOttawa Faculty"
      ]
    },
    {
      "cell_type": "markdown",
      "metadata": {
        "id": "n3mQI4U0Rcxq"
      },
      "source": [
        "#Extract\n",
        "First, let's run the cell below to import neccesary packages. Although most of the commonly used Python libraries are pre-installed, new libraries can be installed as !pip install [package name] or !apt-get install [package name].\n",
        "\n",
        "##1. Packages\n",
        "\n",
        "*   [requests](https://github.com/psf/requests): an elegant and simple HTTP library for Python.\n",
        "*   [Beautiful Soup](https://www.crummy.com/software/BeautifulSoup/bs4/doc/): Python library for pulling data out of HTML and XML files"
      ]
    },
    {
      "cell_type": "code",
      "metadata": {
        "id": "PbyPdTkURVZg"
      },
      "source": [
        "# import\n",
        "### START CODE HERE ### (≈ 2 lines of code)\n",
        "\n",
        "\n",
        "### END CODE HERE ###"
      ],
      "execution_count": null,
      "outputs": []
    },
    {
      "cell_type": "markdown",
      "metadata": {
        "id": "W6iIKkG1Ryrt"
      },
      "source": [
        "Second, set the url of the website from which we'd like to extract data using the requests library that we imported in the first step. If the access was successful, you should see the output as <Response [200]>.\n",
        "\n",
        "## 2. Set the URL"
      ]
    },
    {
      "cell_type": "code",
      "metadata": {
        "id": "iFQR0psBR5NT"
      },
      "source": [
        "# Set the URL you want to scrape from\n",
        "url='https://www.uottawa.ca/en/faculties'\n",
        "\n",
        "# Test if the connection is ok\n",
        "### START CODE HERE ### (≈ 2 lines of code)\n",
        "\n",
        "\n",
        "### END CODE HERE ###"
      ],
      "execution_count": null,
      "outputs": []
    },
    {
      "cell_type": "markdown",
      "metadata": {
        "id": "4_8E2_DtSU9L"
      },
      "source": [
        "Third, parse the html with BeautifulSoup.\n",
        "\n",
        "## 3. Parse HTML file"
      ]
    },
    {
      "cell_type": "code",
      "metadata": {
        "id": "H4xb3nQDSZrx"
      },
      "source": [
        "# Parse HTML and save to BeautifulSoup object\n",
        "### START CODE HERE ### (≈ 2 lines of code)\n",
        "\n",
        "\n",
        "### END CODE HERE ###"
      ],
      "execution_count": null,
      "outputs": []
    },
    {
      "cell_type": "markdown",
      "metadata": {
        "id": "sr6Sh1WuTARR"
      },
      "source": [
        "Fourth, find an element with its attribute name. \n",
        "\n",
        "###Syntax: find_all(name, attrs)\n",
        "Find all elements following the same syntax rules.\n",
        "\n",
        "## 4. Extract faculty."
      ]
    },
    {
      "cell_type": "code",
      "metadata": {
        "id": "Uny2x-SaTxjH"
      },
      "source": [
        "# Find faculty: save as list\n",
        "### START CODE HERE ### (≈ 2 lines of code)\n",
        "\n",
        "\n",
        "### END CODE HERE ###"
      ],
      "execution_count": null,
      "outputs": []
    },
    {
      "cell_type": "markdown",
      "metadata": {
        "id": "hw4pgSnVWQHm"
      },
      "source": [
        "# Export to CSV\n",
        "Import neccesary packages. The file will be saved in the virtual machine, so in order to download a csv file to your local computer, you need to import *files* from google.colab. \n",
        "\n",
        "## 1. Packages\n",
        "\n",
        "*   [pandas](https://pandas.pydata.org/): open source, BSD-licensed library providing high-performance, easy-to-use data structures and data analysis tools.\n",
        "\n",
        "\n"
      ]
    },
    {
      "cell_type": "code",
      "metadata": {
        "id": "1lHHFV0GWVVZ"
      },
      "source": [
        "# import\n",
        "import pandas as pd\n",
        "from google.colab import files"
      ],
      "execution_count": null,
      "outputs": []
    },
    {
      "cell_type": "markdown",
      "metadata": {
        "id": "YRmYjoguWfBg"
      },
      "source": [
        "## 2. DataFrame"
      ]
    },
    {
      "cell_type": "code",
      "metadata": {
        "id": "zAC0ptNEWtfT"
      },
      "source": [
        "# Create an empty data frame\n",
        "\n",
        "#df = pd.DataFrame(name_of_your_variable_to_store_faculty)\n",
        "#df"
      ],
      "execution_count": null,
      "outputs": []
    },
    {
      "cell_type": "markdown",
      "metadata": {
        "id": "vuYkBavvW25E"
      },
      "source": [
        "You can save df (Data frame) to csv format using df.to_csv().\n",
        "\n",
        "## 3. Save as CSV"
      ]
    },
    {
      "cell_type": "code",
      "metadata": {
        "id": "MD-jICPDW3Yt"
      },
      "source": [
        "# Save df as csv in the virtual machine provided by Google\n",
        "df.to_csv('uOttawa_faculty.csv', sep='\\t', encoding='utf-8')\n",
        "\n",
        "# Download the file to your computer\n",
        "files.download(\"uOttawa_faculty.csv\")"
      ],
      "execution_count": null,
      "outputs": []
    }
  ]
}