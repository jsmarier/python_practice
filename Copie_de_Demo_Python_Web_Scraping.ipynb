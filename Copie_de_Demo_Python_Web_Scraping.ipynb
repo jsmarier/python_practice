{
  "nbformat": 4,
  "nbformat_minor": 0,
  "metadata": {
    "colab": {
      "name": "Copie de Demo_Python_Web_Scraping.ipynb",
      "provenance": [],
      "include_colab_link": true
    },
    "kernelspec": {
      "name": "python3",
      "display_name": "Python 3"
    }
  },
  "cells": [
    {
      "cell_type": "markdown",
      "metadata": {
        "id": "view-in-github",
        "colab_type": "text"
      },
      "source": [
        "<a href=\"https://colab.research.google.com/github/jsmarier/python_practice/blob/main/Copie_de_Demo_Python_Web_Scraping.ipynb\" target=\"_parent\"><img src=\"https://colab.research.google.com/assets/colab-badge.svg\" alt=\"Open In Colab\"/></a>"
      ]
    },
    {
      "cell_type": "markdown",
      "metadata": {
        "id": "KHl6S1MTqOeN"
      },
      "source": [
        "# Please don't edit directly in this document. Create your own copy first.\n",
        "\n",
        "# These are demo and simple hands-on exercises with [requests](https://github.com/psf/requests) and [Beautiful Soup](https://www.crummy.com/software/BeautifulSoup/bs4/doc/) Python libraries.\n",
        "\n",
        "---\n",
        "\n"
      ]
    },
    {
      "cell_type": "markdown",
      "metadata": {
        "id": "FiueYZGilu_s"
      },
      "source": [
        "# Extract\n",
        "\n",
        "First, let's run the cell below to import neccesary libraries. Although most of the commonly used Python libraries are pre-installed, new libraries can be installed as *!pip install [package name]* or *!apt-get install [package name]*.\n",
        "\n",
        "##1. Libraries\n",
        "*   [requests](https://github.com/psf/requests): an elegant and simple HTTP library for Python.\n",
        "*   [Beautiful Soup](https://www.crummy.com/software/BeautifulSoup/bs4/doc/): Python library for pulling data out of HTML and XML files\n",
        "\n",
        "\n",
        "\n",
        "\n"
      ]
    },
    {
      "cell_type": "code",
      "metadata": {
        "id": "UB_ajcMlGPwG"
      },
      "source": [
        "# install\n",
        "#!pip install requests\n",
        "#!pip install beautifulsoup4\n",
        "\n",
        "# import\n",
        "### START CODE HERE ### (≈ 2 lines of code)\n",
        "\n",
        "\n",
        "### END CODE HERE ###"
      ],
      "execution_count": null,
      "outputs": []
    },
    {
      "cell_type": "markdown",
      "metadata": {
        "id": "UOlfOOc7oMTL"
      },
      "source": [
        "Second, set the url of the website from which we'd like to extract data using the requests library. If the access was successful, you should see the output as <Response [200]>.\n",
        "\n",
        "## 2. Set the URL"
      ]
    },
    {
      "cell_type": "code",
      "metadata": {
        "id": "BLhzRBmZyfJy"
      },
      "source": [
        "# Set the URL you want to scrape from\n",
        "### START CODE HERE ### (≈ 1 lines of code)\n",
        "\n",
        "### END CODE HERE ###\n",
        "\n",
        "\n",
        "# Connect to the URL and download document\n",
        "### START CODE HERE ### (≈ 1-4 lines of code)\n",
        "\n",
        "\n",
        "\n",
        "\n",
        "### END CODE HERE ###"
      ],
      "execution_count": null,
      "outputs": []
    },
    {
      "cell_type": "markdown",
      "metadata": {
        "id": "kl1hq6Xppnwc"
      },
      "source": [
        "## 3. Parse HTML file"
      ]
    },
    {
      "cell_type": "code",
      "metadata": {
        "id": "m-3EC4Rjrfdp"
      },
      "source": [
        "# Parse HTML and save to BeautifulSoup object\n",
        "### START CODE HERE ### (≈ 2 lines of code)\n",
        "\n",
        "\n",
        "### END CODE HERE ###"
      ],
      "execution_count": null,
      "outputs": []
    },
    {
      "cell_type": "markdown",
      "metadata": {
        "id": "hDHSMfQt0WP5"
      },
      "source": [
        "## 4. Inspect your web document\n"
      ]
    },
    {
      "cell_type": "markdown",
      "metadata": {
        "id": "ZECXIhJzEWUx"
      },
      "source": [
        "## 5. Extract Text From HTML Elements"
      ]
    },
    {
      "cell_type": "code",
      "metadata": {
        "id": "DaIEAMMZ3oS2"
      },
      "source": [
        "# find(‘name_of_element’) == find the first name_of_element that you find in the document\n",
        "\n",
        "### START CODE HERE ### (≈ 1 lines of code)\n",
        "\n",
        "\n",
        "### END CODE HERE ###"
      ],
      "execution_count": null,
      "outputs": []
    },
    {
      "cell_type": "code",
      "metadata": {
        "id": "U8YwAuI8FBgd"
      },
      "source": [
        "# find_all(‘name_of_element’) == find all with the name_of_element in the document\n",
        "\n",
        "### START CODE HERE ### (≈ 1 lines of code)\n",
        "\n",
        "\n",
        "### END CODE HERE ###\n"
      ],
      "execution_count": null,
      "outputs": []
    },
    {
      "cell_type": "code",
      "metadata": {
        "id": "FYZXGEtaFDE4"
      },
      "source": [
        "# find_all(‘name_of_element’, attrs='name_of_attribute':'value_of_attribute) == find all with the name_of_element with the name_of_attribute and value in the document\n",
        "\n",
        "### START CODE HERE ### (≈ 1 lines of code)\n",
        "\n",
        "\n",
        "### END CODE HERE ###"
      ],
      "execution_count": null,
      "outputs": []
    },
    {
      "cell_type": "code",
      "metadata": {
        "id": "5C2T5SBOFFo9"
      },
      "source": [
        "# (element).text == retrieve text associated w/ that element (i.e. text contents of the tag)\n",
        "\n",
        "### START CODE HERE ### (≈ 1 lines of code)\n",
        "\n",
        "\n",
        "### END CODE HERE ###"
      ],
      "execution_count": null,
      "outputs": []
    },
    {
      "cell_type": "code",
      "metadata": {
        "id": "dopen5S4FHQn"
      },
      "source": [
        "# To retrieve texts from all elements\n",
        "\n",
        "### START CODE HERE ### (≈ 3 lines of code)\n",
        "\n",
        "\n",
        "\n",
        "### END CODE HERE ###"
      ],
      "execution_count": null,
      "outputs": []
    },
    {
      "cell_type": "code",
      "metadata": {
        "id": "XZ4_OZpDFLYM"
      },
      "source": [
        "# To retrieve texts from all elements\n",
        "\n",
        "### START CODE HERE ### (≈ 3 lines of code)\n",
        "\n",
        "\n",
        "\n",
        "### END CODE HERE ###"
      ],
      "execution_count": null,
      "outputs": []
    },
    {
      "cell_type": "markdown",
      "metadata": {
        "id": "j322RyLtE2Vj"
      },
      "source": [
        "\n",
        "\n",
        "---\n",
        "\n"
      ]
    },
    {
      "cell_type": "markdown",
      "metadata": {
        "id": "leOW6HJLE6wm"
      },
      "source": [
        "# Another Example"
      ]
    },
    {
      "cell_type": "markdown",
      "metadata": {
        "id": "M0E9Y1dEFSgA"
      },
      "source": [
        "# 2. Set the URL"
      ]
    },
    {
      "cell_type": "code",
      "metadata": {
        "id": "ik81u2tbFX62"
      },
      "source": [
        "# Set the URL you want to scrape from\n",
        "### START CODE HERE ### (≈ 1 lines of code)\n",
        "\n",
        "### END CODE HERE ###\n",
        "\n",
        "\n",
        "# Connect to the URL and download document\n",
        "### START CODE HERE ### (≈ 1-4 lines of code)\n",
        "\n",
        "\n",
        "\n",
        "\n",
        "### END CODE HERE ###"
      ],
      "execution_count": null,
      "outputs": []
    },
    {
      "cell_type": "markdown",
      "metadata": {
        "id": "I-EUC3T9Fzsv"
      },
      "source": [
        "## 3. Parse HTML file"
      ]
    },
    {
      "cell_type": "code",
      "metadata": {
        "id": "V4vywqn0FzaP"
      },
      "source": [
        "# Parse HTML and save to BeautifulSoup object\n",
        "### START CODE HERE ### (≈ 2 lines of code)\n",
        "\n",
        "\n",
        "### END CODE HERE ### "
      ],
      "execution_count": null,
      "outputs": []
    },
    {
      "cell_type": "markdown",
      "metadata": {
        "id": "GpM26wAmGE9w"
      },
      "source": [
        "## 4. Inspect your web document"
      ]
    },
    {
      "cell_type": "markdown",
      "metadata": {
        "id": "2MXBD5yHGK0n"
      },
      "source": [
        "## 5. Extract Text From HTML Elements"
      ]
    },
    {
      "cell_type": "code",
      "metadata": {
        "id": "ZSEC67dKGKbr"
      },
      "source": [
        "# find(‘name_of_element’) == find the first name_of_element that you find in the document\n",
        "\n",
        "### START CODE HERE ### (≈ 1 lines of code)\n",
        "\n",
        "\n",
        "### END CODE HERE ###"
      ],
      "execution_count": null,
      "outputs": []
    },
    {
      "cell_type": "code",
      "metadata": {
        "id": "xDhpSyKcGbki"
      },
      "source": [
        "# (element).text == retrieve text associated w/ that element (i.e. text contents of the tag)\n",
        "\n",
        "### START CODE HERE ### (≈ 1 lines of code)\n",
        "\n",
        "\n",
        "### END CODE HERE ###"
      ],
      "execution_count": null,
      "outputs": []
    },
    {
      "cell_type": "code",
      "metadata": {
        "id": "xoTMvIHAGi1r"
      },
      "source": [
        "# find_all(‘name_of_element’) == find all with the name_of_element in the document\n",
        "\n",
        "### START CODE HERE ### (≈ 1 lines of code)\n",
        "\n",
        "\n",
        "### END CODE HERE ###"
      ],
      "execution_count": null,
      "outputs": []
    },
    {
      "cell_type": "code",
      "metadata": {
        "id": "SkG4WKEeGmgI"
      },
      "source": [
        "# To retrieve texts from all elements\n",
        "\n",
        "### START CODE HERE ### (≈ 3 lines of code)\n",
        "\n",
        "\n",
        "\n",
        "### END CODE HERE ###"
      ],
      "execution_count": null,
      "outputs": []
    },
    {
      "cell_type": "code",
      "metadata": {
        "id": "FiPI85jxG5HU"
      },
      "source": [
        "# To retrieve texts from all elements\n",
        "\n",
        "### START CODE HERE ### (≈ 3 lines of code)\n",
        "\n",
        "\n",
        "\n",
        "### END CODE HERE ###"
      ],
      "execution_count": null,
      "outputs": []
    }
  ]
}